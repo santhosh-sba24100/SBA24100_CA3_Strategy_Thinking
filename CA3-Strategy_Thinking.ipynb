{
 "cells": [
  {
   "cell_type": "markdown",
   "id": "6a436f2c-22a1-4cdd-be33-c87697fdf902",
   "metadata": {},
   "source": [
    "<h1><center>  <div style=\"background-color:skyblue;border-radius:8px; padding: 6px;\">CA3 - Strategy Thinking</div></center></h1>"
   ]
  },
  {
   "cell_type": "code",
   "execution_count": null,
   "id": "8fb4851b-448c-45e6-ac83-230de0ec39dd",
   "metadata": {},
   "outputs": [],
   "source": []
  }
 ],
 "metadata": {
  "kernelspec": {
   "display_name": "Python 3 (ipykernel)",
   "language": "python",
   "name": "python3"
  },
  "language_info": {
   "codemirror_mode": {
    "name": "ipython",
    "version": 3
   },
   "file_extension": ".py",
   "mimetype": "text/x-python",
   "name": "python",
   "nbconvert_exporter": "python",
   "pygments_lexer": "ipython3",
   "version": "3.12.8"
  }
 },
 "nbformat": 4,
 "nbformat_minor": 5
}
